{
 "cells": [
  {
   "cell_type": "code",
   "execution_count": 1,
   "metadata": {
    "collapsed": true,
    "deletable": true,
    "editable": true
   },
   "outputs": [],
   "source": [
    "# Jupyter notebook test file for actual python files\n",
    "# Andrew J Miller\n",
    "# Jun 9 2017\n",
    "\n",
    "# Follow allong for Yoan Blanc's Medium article"
   ]
  },
  {
   "cell_type": "code",
   "execution_count": 2,
   "metadata": {
    "collapsed": false,
    "deletable": true,
    "editable": true
   },
   "outputs": [],
   "source": [
    "\"\"\"\n",
    "    This is for testing the Slack API authentication for out bot. (api.py)\n",
    "\"\"\";"
   ]
  },
  {
   "cell_type": "code",
   "execution_count": 3,
   "metadata": {
    "collapsed": true,
    "deletable": true,
    "editable": true
   },
   "outputs": [],
   "source": [
    "# Import libraries\n",
    "import asyncio\n",
    "import aiohttp"
   ]
  },
  {
   "cell_type": "code",
   "execution_count": 4,
   "metadata": {
    "collapsed": true,
    "deletable": true,
    "editable": true
   },
   "outputs": [],
   "source": [
    "# Import our config file.\n",
    "# This is just to hide the Token file.\n",
    "from config import DEBUG, TOKEN"
   ]
  },
  {
   "cell_type": "code",
   "execution_count": 5,
   "metadata": {
    "collapsed": true,
    "deletable": true,
    "editable": true
   },
   "outputs": [],
   "source": [
    "# You should store your actual files here after uncommenting this.\n",
    "# DEBUG = True\n",
    "# TOKEN = \"xoxo-..\""
   ]
  },
  {
   "cell_type": "code",
   "execution_count": 6,
   "metadata": {
    "collapsed": false,
    "deletable": true,
    "editable": true
   },
   "outputs": [],
   "source": [
    "async def api_call(method, data = None, token = TOKEN):\n",
    "    # This calls the slack API.\n",
    "    \n",
    "    # Acts on aiohttp.Client as session\n",
    "    with aiohttp.ClientSession() as session:\n",
    "        \n",
    "        # Creates our form.\n",
    "        form = aiohttp.FormData(data or {})\n",
    "        \n",
    "        # Adds our token to the form.\n",
    "        form.add_field('token', token)\n",
    "        \n",
    "        # This is a coroutine, it is a function that stops and resumes based on the awaoy response below.\n",
    "        # \n",
    "        async with session.post('https://slack.com/api/{0}'.format(method),\n",
    "                                data = form) as response:\n",
    "            assert 200 == response.status, ('{0} with {1} failed.'.format(method, data))\n",
    "            \n",
    "            return await response.json()"
   ]
  },
  {
   "cell_type": "code",
   "execution_count": 7,
   "metadata": {
    "collapsed": false,
    "deletable": true,
    "editable": true
   },
   "outputs": [
    {
     "name": "stderr",
     "output_type": "stream",
     "text": [
      "Executing <Task pending coro=<api_call() running at <ipython-input-6-f19a7f6f2c57>:16> wait_for=<Future pending cb=[_chain_future.<locals>._call_check_cancel() at C:\\Users\\andym\\Anaconda3\\envs\\aind\\lib\\asyncio\\futures.py:407, <TaskWakeupMethWrapper object at 0x0000020A25A9AD98>()] created at C:\\Users\\andym\\Anaconda3\\envs\\aind\\lib\\asyncio\\base_events.py:275> cb=[_run_until_complete_cb() at C:\\Users\\andym\\Anaconda3\\envs\\aind\\lib\\asyncio\\base_events.py:176] created at C:\\Users\\andym\\Anaconda3\\envs\\aind\\lib\\asyncio\\base_events.py:446> took 0.234 seconds\n"
     ]
    },
    {
     "name": "stdout",
     "output_type": "stream",
     "text": [
      "{'ok': True, 'url': 'https://testing1313.slack.com/', 'team': 'testing', 'user': 'andros', 'team_id': 'T65U8K7K5', 'user_id': 'U65AW2G72'}\n"
     ]
    }
   ],
   "source": [
    "# This is the main run block.\n",
    "# if you get an ok it means your token key is working.\n",
    "\n",
    "if __name__ == \"__main__\":\n",
    "    loop = asyncio.get_event_loop()\n",
    "    loop.set_debug(DEBUG)\n",
    "    response = loop.run_until_complete(api_call('auth.test'))\n",
    "    loop.close()\n",
    "\n",
    "    assert response['ok']\n",
    "    print(response)"
   ]
  },
  {
   "cell_type": "code",
   "execution_count": 17,
   "metadata": {
    "collapsed": true,
    "deletable": true,
    "editable": true
   },
   "outputs": [],
   "source": [
    "# But what about for connecting the actual bot?"
   ]
  },
  {
   "cell_type": "code",
   "execution_count": 18,
   "metadata": {
    "collapsed": false,
    "deletable": true,
    "editable": true
   },
   "outputs": [],
   "source": [
    "\"\"\"\n",
    "    Bot that prints to the console (andros.py)\n",
    "\"\"\";"
   ]
  },
  {
   "cell_type": "code",
   "execution_count": 19,
   "metadata": {
    "collapsed": true
   },
   "outputs": [],
   "source": [
    "# Import libraries\n",
    "import asyncio\n",
    "import json\n",
    "import sys\n",
    "import aiohttp"
   ]
  },
  {
   "cell_type": "code",
   "execution_count": 20,
   "metadata": {
    "collapsed": true
   },
   "outputs": [],
   "source": [
    "# from api import api_call\n",
    "from config import DEBUG, TOKEN"
   ]
  },
  {
   "cell_type": "code",
   "execution_count": 21,
   "metadata": {
    "collapsed": true
   },
   "outputs": [],
   "source": [
    "async def andros(token = TOKEN):\n",
    "    \"\"\"\n",
    "        Creates a bot that connects with Slack Real Time Messaging API\n",
    "    \"\"\"\n",
    "    rtm = await api_call(\"rtm.start\")\n",
    "    assert rtm['ok'], \"Connection error with RTM API\"\n",
    "    \n",
    "    async with aiohttp.ClientSession() as session:\n",
    "        async with session.ws_connect(rtm[\"url\"]) as ws:\n",
    "            async for msg in ws:\n",
    "                assert msg.tp == aiohttp.MsgType.text\n",
    "                print(json.loads(msg.data))"
   ]
  },
  {
   "cell_type": "code",
   "execution_count": 22,
   "metadata": {
    "collapsed": false
   },
   "outputs": [
    {
     "ename": "RuntimeError",
     "evalue": "Event loop is closed",
     "output_type": "error",
     "traceback": [
      "\u001b[1;31m---------------------------------------------------------------------------\u001b[0m",
      "\u001b[1;31mRuntimeError\u001b[0m                              Traceback (most recent call last)",
      "\u001b[1;32m<ipython-input-22-269ff2a673d8>\u001b[0m in \u001b[0;36m<module>\u001b[1;34m()\u001b[0m\n\u001b[0;32m      3\u001b[0m     \u001b[0mloop\u001b[0m \u001b[1;33m=\u001b[0m \u001b[0masyncio\u001b[0m\u001b[1;33m.\u001b[0m\u001b[0mget_event_loop\u001b[0m\u001b[1;33m(\u001b[0m\u001b[1;33m)\u001b[0m\u001b[1;33m\u001b[0m\u001b[0m\n\u001b[0;32m      4\u001b[0m     \u001b[0mloop\u001b[0m\u001b[1;33m.\u001b[0m\u001b[0mset_debug\u001b[0m\u001b[1;33m(\u001b[0m\u001b[0mDEBUG\u001b[0m\u001b[1;33m)\u001b[0m\u001b[1;33m\u001b[0m\u001b[0m\n\u001b[1;32m----> 5\u001b[1;33m     \u001b[0mloop\u001b[0m\u001b[1;33m.\u001b[0m\u001b[0mrun_until_complete\u001b[0m\u001b[1;33m(\u001b[0m\u001b[0mandros\u001b[0m\u001b[1;33m(\u001b[0m\u001b[1;33m)\u001b[0m\u001b[1;33m)\u001b[0m\u001b[1;33m\u001b[0m\u001b[0m\n\u001b[0m\u001b[0;32m      6\u001b[0m     \u001b[0mloop\u001b[0m\u001b[1;33m.\u001b[0m\u001b[0mclose\u001b[0m\u001b[1;33m(\u001b[0m\u001b[1;33m)\u001b[0m\u001b[1;33m\u001b[0m\u001b[0m\n",
      "\u001b[1;32mC:\\Users\\andym\\Anaconda3\\envs\\aind\\lib\\asyncio\\base_events.py\u001b[0m in \u001b[0;36mrun_until_complete\u001b[1;34m(self, future)\u001b[0m\n\u001b[0;32m    441\u001b[0m         \u001b[0mReturn\u001b[0m \u001b[0mthe\u001b[0m \u001b[0mFuture\u001b[0m\u001b[0;31m'\u001b[0m\u001b[0ms\u001b[0m \u001b[0mresult\u001b[0m\u001b[1;33m,\u001b[0m \u001b[1;32mor\u001b[0m \u001b[1;32mraise\u001b[0m \u001b[0mits\u001b[0m \u001b[0mexception\u001b[0m\u001b[1;33m.\u001b[0m\u001b[1;33m\u001b[0m\u001b[0m\n\u001b[0;32m    442\u001b[0m         \"\"\"\n\u001b[1;32m--> 443\u001b[1;33m         \u001b[0mself\u001b[0m\u001b[1;33m.\u001b[0m\u001b[0m_check_closed\u001b[0m\u001b[1;33m(\u001b[0m\u001b[1;33m)\u001b[0m\u001b[1;33m\u001b[0m\u001b[0m\n\u001b[0m\u001b[0;32m    444\u001b[0m \u001b[1;33m\u001b[0m\u001b[0m\n\u001b[0;32m    445\u001b[0m         \u001b[0mnew_task\u001b[0m \u001b[1;33m=\u001b[0m \u001b[1;32mnot\u001b[0m \u001b[0mfutures\u001b[0m\u001b[1;33m.\u001b[0m\u001b[0misfuture\u001b[0m\u001b[1;33m(\u001b[0m\u001b[0mfuture\u001b[0m\u001b[1;33m)\u001b[0m\u001b[1;33m\u001b[0m\u001b[0m\n",
      "\u001b[1;32mC:\\Users\\andym\\Anaconda3\\envs\\aind\\lib\\asyncio\\base_events.py\u001b[0m in \u001b[0;36m_check_closed\u001b[1;34m(self)\u001b[0m\n\u001b[0;32m    355\u001b[0m     \u001b[1;32mdef\u001b[0m \u001b[0m_check_closed\u001b[0m\u001b[1;33m(\u001b[0m\u001b[0mself\u001b[0m\u001b[1;33m)\u001b[0m\u001b[1;33m:\u001b[0m\u001b[1;33m\u001b[0m\u001b[0m\n\u001b[0;32m    356\u001b[0m         \u001b[1;32mif\u001b[0m \u001b[0mself\u001b[0m\u001b[1;33m.\u001b[0m\u001b[0m_closed\u001b[0m\u001b[1;33m:\u001b[0m\u001b[1;33m\u001b[0m\u001b[0m\n\u001b[1;32m--> 357\u001b[1;33m             \u001b[1;32mraise\u001b[0m \u001b[0mRuntimeError\u001b[0m\u001b[1;33m(\u001b[0m\u001b[1;34m'Event loop is closed'\u001b[0m\u001b[1;33m)\u001b[0m\u001b[1;33m\u001b[0m\u001b[0m\n\u001b[0m\u001b[0;32m    358\u001b[0m \u001b[1;33m\u001b[0m\u001b[0m\n\u001b[0;32m    359\u001b[0m     \u001b[1;32mdef\u001b[0m \u001b[0m_asyncgen_finalizer_hook\u001b[0m\u001b[1;33m(\u001b[0m\u001b[0mself\u001b[0m\u001b[1;33m,\u001b[0m \u001b[0magen\u001b[0m\u001b[1;33m)\u001b[0m\u001b[1;33m:\u001b[0m\u001b[1;33m\u001b[0m\u001b[0m\n",
      "\u001b[1;31mRuntimeError\u001b[0m: Event loop is closed"
     ]
    },
    {
     "name": "stderr",
     "output_type": "stream",
     "text": [
      "C:\\Users\\andym\\Anaconda3\\envs\\aind\\lib\\site-packages\\simplejson\\encoder.py:371: RuntimeWarning: coroutine 'andros' was never awaited\n",
      "  self.iterable_as_array, Decimal=decimal.Decimal)\n"
     ]
    }
   ],
   "source": [
    "# Run Block\n",
    "if __name__ == \"__main__\":\n",
    "    loop = asyncio.get_event_loop()\n",
    "    loop.set_debug(DEBUG)\n",
    "    loop.run_until_complete(andros())\n",
    "    loop.close()"
   ]
  },
  {
   "cell_type": "code",
   "execution_count": 23,
   "metadata": {
    "collapsed": true
   },
   "outputs": [],
   "source": [
    "# Let's make another iteration of the above that actually does something other than\n",
    "# printing JSON information to the console."
   ]
  },
  {
   "cell_type": "code",
   "execution_count": 24,
   "metadata": {
    "collapsed": true
   },
   "outputs": [],
   "source": [
    "# Import libraries\n",
    "import asyncio\n",
    "import json\n",
    "import sys\n",
    "import aiohttp\n",
    "# from api import api_call\n",
    "from config import DEBUG, TOKEN"
   ]
  },
  {
   "cell_type": "code",
   "execution_count": null,
   "metadata": {
    "collapsed": true
   },
   "outputs": [],
   "source": [
    "# This is pretty obvious to see.\n",
    "# This takes in the messaege as long as it's a message and prints it out.\n",
    "# If there's an error it lets us know.\n",
    "\n",
    "async def consumer(message):\n",
    "    \"\"\"\n",
    "        Display recieved message\n",
    "    \"\"\"\n",
    "    if message.get('type') == 'message':\n",
    "        user = await api_call('users.info', {'user': message.get('user')})\n",
    "        \n",
    "        print(\"{0}: {1}\".format(user[\"user\"][\"name\"], message[\"text\"]))\n",
    "        \n",
    "        else:\n",
    "            print(message, file=sys.stderr)"
   ]
  },
  {
   "cell_type": "code",
   "execution_count": null,
   "metadata": {
    "collapsed": true
   },
   "outputs": [],
   "source": [
    "# This connects but notice the added aysyncio funciton.\n",
    "async def andros(token = TOKEN):\n",
    "    \"\"\"\n",
    "        Creates a bot that connects with Slack Real Time Messaging API\n",
    "    \"\"\"\n",
    "    rtm = await api_call(\"rtm.start\")\n",
    "    assert rtm['ok'], \"Connection error with RTM API\"\n",
    "    \n",
    "    async with aiohttp.ClientSession() as session:\n",
    "        async with session.ws_connect(rtm[\"url\"]) as ws:\n",
    "            async for msg in ws:\n",
    "                assert msg.tp == aiohttp.MsgType.text\n",
    "                print(json.loads(msg.data))\n",
    "                asyncio.ensure_future(consumer(message))"
   ]
  },
  {
   "cell_type": "code",
   "execution_count": null,
   "metadata": {
    "collapsed": true
   },
   "outputs": [],
   "source": []
  }
 ],
 "metadata": {
  "kernelspec": {
   "display_name": "Python 3",
   "language": "python",
   "name": "python3"
  },
  "language_info": {
   "codemirror_mode": {
    "name": "ipython",
    "version": 3
   },
   "file_extension": ".py",
   "mimetype": "text/x-python",
   "name": "python",
   "nbconvert_exporter": "python",
   "pygments_lexer": "ipython3",
   "version": "3.6.0"
  }
 },
 "nbformat": 4,
 "nbformat_minor": 2
}

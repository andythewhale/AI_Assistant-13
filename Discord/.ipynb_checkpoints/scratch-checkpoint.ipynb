{
 "cells": [
  {
   "cell_type": "code",
   "execution_count": 1,
   "metadata": {
    "collapsed": true,
    "deletable": true,
    "editable": true
   },
   "outputs": [],
   "source": [
    "# This is a scratch file for developing the Discord vesion of the bot\n",
    "# Andy Miller\n",
    "# Jun 9 2017\n",
    "# Thanks again to Yoan"
   ]
  },
  {
   "cell_type": "code",
   "execution_count": 4,
   "metadata": {
    "collapsed": false,
    "deletable": true,
    "editable": true
   },
   "outputs": [],
   "source": [
    "# Import libraries & grab neccessary objects\n",
    "import asyncio\n",
    "import json\n",
    "import aiohttp\n",
    "from config import TOKEN\n",
    "URL = \"https://discordapp.com/api\""
   ]
  },
  {
   "cell_type": "code",
   "execution_count": 5,
   "metadata": {
    "collapsed": true,
    "deletable": true,
    "editable": true
   },
   "outputs": [],
   "source": [
    "# This defines the call to the Discord API.\n",
    "# It asks for a response from the URL\n",
    "# The response is returned as a JSON.\n",
    "async def api_call(path):\n",
    "    \"\"\"\n",
    "        Returns the JSON body of a call to the Discord Rest API\n",
    "    \"\"\"\n",
    "    \n",
    "    with aiohttp.ClientSession() as session:\n",
    "        async with session.get(f\"{URL}{path}\") as response:\n",
    "            assert 200 == response.status, response.reason\n",
    "            return await response.json()"
   ]
  },
  {
   "cell_type": "code",
   "execution_count": 6,
   "metadata": {
    "collapsed": true,
    "deletable": true,
    "editable": true
   },
   "outputs": [],
   "source": [
    "# This program runs the definition based on the gateway path.\n",
    "# Notice no TOKEN has been used yet.\n",
    "# That is because this main is connecting us to our websocket.\n",
    "# The asynchrony of this function is that it continues other processes until this is ready/\n",
    "async def main():\n",
    "    \"\"\"Main program.\"\"\"\n",
    "    response = await api_call(\"/gateway\")\n",
    "    await start(response[\"url\"])"
   ]
  },
  {
   "cell_type": "code",
   "execution_count": null,
   "metadata": {
    "collapsed": true,
    "deletable": true,
    "editable": true
   },
   "outputs": [],
   "source": [
    "# But where is the start function?\n",
    "# Oh it's here:\n",
    "# We wait for a message and then we print it\n",
    "async def start(url):\n",
    "    with aiohttp.ClientSession() as session:\n",
    "        async with session.ws_connect(\n",
    "                f\"{url}?v=6&encoding=json\") as ws:\n",
    "            async for msg in ws:\n",
    "                data = json.loads(msg.data)\n",
    "                \n",
    "                if data[\"op\"] == 10: # Hello\n",
    "                    await ws.send_json({\n",
    "                        \"op\": 2, #Identity\n",
    "                        \"d\": {\n",
    "                            \"token\": TOKEN,\n",
    "                            \"properties\": {},\n",
    "                            \"compress\": False,\n",
    "                            \"large_threshold\": 250\n",
    "                        }\n",
    "                    })\n",
    "                \n",
    "                elif data[\"op\"] == 0: \"Dispatch\"\n",
    "                    print(data['t'], data['d'])\n",
    "                    \n",
    "                else:\n",
    "                    print(data)\n",
    "                "
   ]
  }
 ],
 "metadata": {
  "kernelspec": {
   "display_name": "Python 3",
   "language": "python",
   "name": "python3"
  },
  "language_info": {
   "codemirror_mode": {
    "name": "ipython",
    "version": 3
   },
   "file_extension": ".py",
   "mimetype": "text/x-python",
   "name": "python",
   "nbconvert_exporter": "python",
   "pygments_lexer": "ipython3",
   "version": "3.6.0"
  }
 },
 "nbformat": 4,
 "nbformat_minor": 2
}
